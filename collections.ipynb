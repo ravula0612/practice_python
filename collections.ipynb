{
 "cells": [
  {
   "cell_type": "markdown",
   "metadata": {},
   "source": [
    "# collections:Counters, namedtuple, orderedDict, defaultDict, deque"
   ]
  },
  {
   "cell_type": "code",
   "execution_count": 98,
   "metadata": {},
   "outputs": [],
   "source": [
    "from collections import Counter\n",
    "from collections import namedtuple\n",
    "from collections import OrderedDict\n",
    "from collections import defaultdict\n",
    "from collections import deque"
   ]
  },
  {
   "cell_type": "code",
   "execution_count": 99,
   "metadata": {},
   "outputs": [
    {
     "name": "stdout",
     "output_type": "stream",
     "text": [
      "Counter({'s': 13, 'g': 8, 'a': 6, 'd': 6})\n"
     ]
    }
   ],
   "source": [
    "a = \"aaaaaasssssssssssssddddddgggggggg\"\n",
    "col_counter = Counter(a)\n",
    "print(col_counter)\n"
   ]
  },
  {
   "cell_type": "code",
   "execution_count": 100,
   "metadata": {},
   "outputs": [
    {
     "data": {
      "text/plain": [
       "dict_items([('a', 6), ('s', 13), ('d', 6), ('g', 8)])"
      ]
     },
     "execution_count": 100,
     "metadata": {},
     "output_type": "execute_result"
    }
   ],
   "source": [
    "col_counter.items()"
   ]
  },
  {
   "cell_type": "code",
   "execution_count": 101,
   "metadata": {},
   "outputs": [
    {
     "data": {
      "text/plain": [
       "dict_keys(['a', 's', 'd', 'g'])"
      ]
     },
     "execution_count": 101,
     "metadata": {},
     "output_type": "execute_result"
    }
   ],
   "source": [
    "col_counter.keys()"
   ]
  },
  {
   "cell_type": "code",
   "execution_count": 102,
   "metadata": {},
   "outputs": [
    {
     "data": {
      "text/plain": [
       "dict_values([6, 13, 6, 8])"
      ]
     },
     "execution_count": 102,
     "metadata": {},
     "output_type": "execute_result"
    }
   ],
   "source": [
    "col_counter.values()"
   ]
  },
  {
   "cell_type": "code",
   "execution_count": 103,
   "metadata": {},
   "outputs": [
    {
     "data": {
      "text/plain": [
       "[('s', 13), ('g', 8)]"
      ]
     },
     "execution_count": 103,
     "metadata": {},
     "output_type": "execute_result"
    }
   ],
   "source": [
    "col_counter.most_common(2)"
   ]
  },
  {
   "cell_type": "markdown",
   "metadata": {},
   "source": [
    "# namedtuple"
   ]
  },
  {
   "cell_type": "code",
   "execution_count": 104,
   "metadata": {},
   "outputs": [],
   "source": [
    "nt = namedtuple('point','x,y')"
   ]
  },
  {
   "cell_type": "code",
   "execution_count": 105,
   "metadata": {},
   "outputs": [
    {
     "data": {
      "text/plain": [
       "point(x=1, y=-2)"
      ]
     },
     "execution_count": 105,
     "metadata": {},
     "output_type": "execute_result"
    }
   ],
   "source": [
    "n = nt(1,-2)\n",
    "n"
   ]
  },
  {
   "cell_type": "code",
   "execution_count": 106,
   "metadata": {},
   "outputs": [
    {
     "name": "stdout",
     "output_type": "stream",
     "text": [
      "1 -2\n"
     ]
    }
   ],
   "source": [
    "print(n.x,n.y)"
   ]
  },
  {
   "cell_type": "markdown",
   "metadata": {},
   "source": [
    "# OrderedDict"
   ]
  },
  {
   "cell_type": "code",
   "execution_count": 107,
   "metadata": {},
   "outputs": [
    {
     "name": "stdout",
     "output_type": "stream",
     "text": [
      "OrderedDict([('a', 1), ('b', 2), ('c', 3)])\n"
     ]
    }
   ],
   "source": [
    "dict_1 = OrderedDict()\n",
    "dict_1['a'] = 1\n",
    "dict_1['b'] = 2\n",
    "dict_1['c'] = 3\n",
    "print(dict_1)"
   ]
  },
  {
   "cell_type": "markdown",
   "metadata": {},
   "source": [
    "#    # defaultdict"
   ]
  },
  {
   "cell_type": "code",
   "execution_count": 108,
   "metadata": {},
   "outputs": [
    {
     "name": "stdout",
     "output_type": "stream",
     "text": [
      "0\n"
     ]
    }
   ],
   "source": [
    "d = defaultdict(int) # you can use the any of the parameter of datatype it assign a default value to the non exiting variables\n",
    "\n",
    "d['a'] = 1\n",
    "d['b'] = 2\n",
    "print(d['c'])"
   ]
  },
  {
   "cell_type": "markdown",
   "metadata": {},
   "source": [
    "# deque"
   ]
  },
  {
   "cell_type": "code",
   "execution_count": 109,
   "metadata": {},
   "outputs": [
    {
     "data": {
      "text/plain": [
       "deque([1, 2, 3, 4, 5])"
      ]
     },
     "execution_count": 109,
     "metadata": {},
     "output_type": "execute_result"
    }
   ],
   "source": [
    "d = deque()\n",
    "d.append(1)\n",
    "d.append(2)\n",
    "d.append(3)\n",
    "d.append(4)\n",
    "d.append(5)\n",
    "d"
   ]
  },
  {
   "cell_type": "code",
   "execution_count": 110,
   "metadata": {},
   "outputs": [
    {
     "data": {
      "text/plain": [
       "5"
      ]
     },
     "execution_count": 110,
     "metadata": {},
     "output_type": "execute_result"
    }
   ],
   "source": [
    "d.pop()"
   ]
  },
  {
   "cell_type": "code",
   "execution_count": 111,
   "metadata": {},
   "outputs": [],
   "source": [
    "d.appendleft(10)\n"
   ]
  },
  {
   "cell_type": "code",
   "execution_count": 112,
   "metadata": {},
   "outputs": [
    {
     "data": {
      "text/plain": [
       "deque([10, 1, 2, 3, 4])"
      ]
     },
     "execution_count": 112,
     "metadata": {},
     "output_type": "execute_result"
    }
   ],
   "source": [
    "d"
   ]
  },
  {
   "cell_type": "code",
   "execution_count": 113,
   "metadata": {},
   "outputs": [
    {
     "data": {
      "text/plain": [
       "deque([1, 2, 3, 4])"
      ]
     },
     "execution_count": 113,
     "metadata": {},
     "output_type": "execute_result"
    }
   ],
   "source": [
    "d.popleft()\n",
    "d"
   ]
  },
  {
   "cell_type": "code",
   "execution_count": 114,
   "metadata": {},
   "outputs": [
    {
     "data": {
      "text/plain": [
       "deque([1, 2, 3, 4, 1, 2, 4, 5])"
      ]
     },
     "execution_count": 114,
     "metadata": {},
     "output_type": "execute_result"
    }
   ],
   "source": [
    "d.extend([1,2,4,5])\n",
    "d"
   ]
  },
  {
   "cell_type": "code",
   "execution_count": 115,
   "metadata": {},
   "outputs": [
    {
     "data": {
      "text/plain": [
       "deque([44, 33, 22, 11, 1, 2, 3, 4, 1, 2, 4, 5])"
      ]
     },
     "execution_count": 115,
     "metadata": {},
     "output_type": "execute_result"
    }
   ],
   "source": [
    "d.extendleft([11,22,33,44])\n",
    "d"
   ]
  },
  {
   "cell_type": "markdown",
   "metadata": {},
   "source": [
    "# itertools"
   ]
  },
  {
   "cell_type": "code",
   "execution_count": 116,
   "metadata": {},
   "outputs": [],
   "source": [
    "from itertools import product\n",
    "from itertools import permutations\n",
    "from itertools import combinations,combinations_with_replacement\n",
    "from itertools import accumulate\n",
    "from itertools import groupby\n",
    "# infinite iterators"
   ]
  },
  {
   "cell_type": "code",
   "execution_count": 117,
   "metadata": {},
   "outputs": [
    {
     "name": "stdout",
     "output_type": "stream",
     "text": [
      "[(1, 11), (1, 22), (1, 44), (3, 11), (3, 22), (3, 44), (4, 11), (4, 22), (4, 44)]\n"
     ]
    }
   ],
   "source": [
    "a = [1,3,4]\n",
    "b = [11,22,44]\n",
    "pdt = product(a,b, repeat=1)\n",
    "print(list(pdt))"
   ]
  },
  {
   "cell_type": "code",
   "execution_count": 118,
   "metadata": {},
   "outputs": [
    {
     "data": {
      "text/plain": [
       "[(1, 3), (1, 4), (3, 1), (3, 4), (4, 1), (4, 3)]"
      ]
     },
     "execution_count": 118,
     "metadata": {},
     "output_type": "execute_result"
    }
   ],
   "source": [
    "\n",
    "aa = permutations(a,2)\n",
    "list(aa)\n"
   ]
  },
  {
   "cell_type": "code",
   "execution_count": 119,
   "metadata": {},
   "outputs": [
    {
     "data": {
      "text/plain": [
       "[(1, 3), (1, 4), (3, 4)]"
      ]
     },
     "execution_count": 119,
     "metadata": {},
     "output_type": "execute_result"
    }
   ],
   "source": [
    "aaa = combinations(a,2)\n",
    "list(aaa)"
   ]
  },
  {
   "cell_type": "code",
   "execution_count": 120,
   "metadata": {},
   "outputs": [
    {
     "data": {
      "text/plain": [
       "[(1, 1, 1),\n",
       " (1, 1, 3),\n",
       " (1, 1, 4),\n",
       " (1, 3, 3),\n",
       " (1, 3, 4),\n",
       " (1, 4, 4),\n",
       " (3, 3, 3),\n",
       " (3, 3, 4),\n",
       " (3, 4, 4),\n",
       " (4, 4, 4)]"
      ]
     },
     "execution_count": 120,
     "metadata": {},
     "output_type": "execute_result"
    }
   ],
   "source": [
    "aaa = combinations_with_replacement(a,3)\n",
    "list(aaa)"
   ]
  },
  {
   "cell_type": "code",
   "execution_count": 121,
   "metadata": {},
   "outputs": [
    {
     "data": {
      "text/plain": [
       "[1, 4, 8]"
      ]
     },
     "execution_count": 121,
     "metadata": {},
     "output_type": "execute_result"
    }
   ],
   "source": [
    "\n",
    "import operator\n",
    "a4 = accumulate(a)\n",
    "list(a4)"
   ]
  },
  {
   "cell_type": "markdown",
   "metadata": {},
   "source": [
    "# lambda functions"
   ]
  },
  {
   "cell_type": "code",
   "execution_count": 122,
   "metadata": {},
   "outputs": [],
   "source": [
    "method = lambda x,y : x+y"
   ]
  },
  {
   "cell_type": "code",
   "execution_count": 123,
   "metadata": {},
   "outputs": [
    {
     "data": {
      "text/plain": [
       "5"
      ]
     },
     "execution_count": 123,
     "metadata": {},
     "output_type": "execute_result"
    }
   ],
   "source": [
    "method(2,3)"
   ]
  },
  {
   "cell_type": "markdown",
   "metadata": {},
   "source": [
    "# json handling with py"
   ]
  },
  {
   "cell_type": "code",
   "execution_count": 127,
   "metadata": {},
   "outputs": [],
   "source": [
    "import json"
   ]
  },
  {
   "cell_type": "code",
   "execution_count": 128,
   "metadata": {},
   "outputs": [],
   "source": [
    "json_obj = { \n",
    "  \"accounting\" : [   \n",
    "                     { \"firstName\" : \"John\",  \n",
    "                       \"lastName\"  : \"Doe\",\n",
    "                       \"age\"       : 23 },\n",
    "\n",
    "                     { \"firstName\" : \"Mary\",  \n",
    "                       \"lastName\"  : \"Smith\",\n",
    "                        \"age\"      : 32 }\n",
    "                 ],                            \n",
    "  \"sales\"      : [ \n",
    "                     { \"firstName\" : \"Sally\", \n",
    "                       \"lastName\"  : \"Green\",\n",
    "                        \"age\"      : 27 },\n",
    "\n",
    "                     { \"firstName\" : \"Jim\",   \n",
    "                       \"lastName\"  : \"Galley\",\n",
    "                       \"age\"       : 41 }\n",
    "                 ] \n",
    "} "
   ]
  },
  {
   "cell_type": "code",
   "execution_count": 129,
   "metadata": {},
   "outputs": [
    {
     "data": {
      "text/plain": [
       "dict"
      ]
     },
     "execution_count": 129,
     "metadata": {},
     "output_type": "execute_result"
    }
   ],
   "source": [
    "type(json_obj)"
   ]
  },
  {
   "cell_type": "code",
   "execution_count": 131,
   "metadata": {},
   "outputs": [],
   "source": [
    "jp = json.dumps(json_obj)"
   ]
  },
  {
   "cell_type": "code",
   "execution_count": 132,
   "metadata": {},
   "outputs": [
    {
     "name": "stdout",
     "output_type": "stream",
     "text": [
      "{\"accounting\": [{\"firstName\": \"John\", \"lastName\": \"Doe\", \"age\": 23}, {\"firstName\": \"Mary\", \"lastName\": \"Smith\", \"age\": 32}], \"sales\": [{\"firstName\": \"Sally\", \"lastName\": \"Green\", \"age\": 27}, {\"firstName\": \"Jim\", \"lastName\": \"Galley\", \"age\": 41}]}\n"
     ]
    }
   ],
   "source": [
    "print(jp)"
   ]
  },
  {
   "cell_type": "code",
   "execution_count": 1,
   "metadata": {},
   "outputs": [
    {
     "name": "stdout",
     "output_type": "stream",
     "text": [
      "Collecting pyqrcode\n",
      "  Using cached PyQRCode-1.2.1.zip (41 kB)\n",
      "Building wheels for collected packages: pyqrcode\n",
      "  Building wheel for pyqrcode (setup.py): started\n",
      "  Building wheel for pyqrcode (setup.py): finished with status 'done'\n",
      "  Created wheel for pyqrcode: filename=PyQRCode-1.2.1-py3-none-any.whl size=36247 sha256=a4420fd17d5bc5db75780f14a6ee515cba1d64643bcf59c4425b19bfb71ff7db\n",
      "  Stored in directory: c:\\users\\anilkumar.m\\appdata\\local\\pip\\cache\\wheels\\da\\75\\c0\\38c7f82750de2725429b6b8571dca254249d73f6c882c5d9b1\n",
      "Successfully built pyqrcode\n",
      "Installing collected packages: pyqrcode\n",
      "Successfully installed pyqrcode-1.2.1\n",
      "Note: you may need to restart the kernel to use updated packages.\n"
     ]
    }
   ],
   "source": [
    "pip install pyqrcode"
   ]
  },
  {
   "cell_type": "code",
   "execution_count": 6,
   "metadata": {},
   "outputs": [],
   "source": [
    "# Importing the module pyqrcode \n",
    "import pyqrcode \n",
    "# address of the website for which we are making qr code \n",
    "s = \"codespeedy.com\"\n",
    "# Generate QR code by the help of create function \n",
    "url = pyqrcode.create(s) \n",
    "# saving the svg file naming \"myqr.png\" \n",
    "url.svg(\"myqr.svg\", scale = 8) "
   ]
  },
  {
   "cell_type": "code",
   "execution_count": 3,
   "metadata": {},
   "outputs": [
    {
     "name": "stdout",
     "output_type": "stream",
     "text": [
      "{\"statusCode\": 200, \"messege\": {\"serviceno\": \"6552341\", \"response\": {\"accountno\": \"935643\", \"serviceno\": \"68738313\", \"billcycle\": \"7\", \"fecha_nacimento\": \"02/07/1963\", \"genero\": \"Femenino\", \"email\": \"notiene@cwpanama.net\", \"numero_identificacion\": \"6-55-2341\", \"startdate_accountno\": \"2015.09.26 00:00:00\", \"renewal_date\": \"2024.01.19 00:00:00\", \"account_status\": \"ACTIVE\", \"biz_unit_mo\": \"B2C\", \"typ_plan_cat\": \"MOBILE\", \"category\": \"Consumer\", \"province\": \"PANAMA\", \"district\": \"SAN MIGUELITO\", \"corregiment\": \"None\", \"voiceplanname_d\": \"Mas Control VYD LDI 2250 DATA Sin Limites\", \"dataproductname_d\": \"LTE GPRS SIN LIMITES 9029\", \"total_mrc_d\": \"20.00\", \"tech\": \"LTE\", \"invoutstanding_d\": \"22.42\", \"usg_prf_mo\": \"CAGED DATA\", \"tot_inv_mo\": \"5.65\", \"device_type\": \"Smartphone\", \"marketing_name\": \"Galaxy A9\", \"brand_name\": \"Samsung\", \"churn_prop\": \"0.32\", \"inv_exp_dt\": \"2023.03.20 00:00:00\", \"inv_paymt_dt\": \"2023.02.22 00:00:00\", \"fmc_flag\": \"0\", \"fmc_household_id\": \"None\", \"number_identification\": \"6552341\"}}}\n"
     ]
    }
   ],
   "source": [
    "import requests\n",
    "\n",
    "url = \"https://idv-cwpmobile-frequentcaller.idvccops.com/idv_cwp-mobile?service_number=6552341\"\n",
    "\n",
    "payload={}\n",
    "headers = {\n",
    "  'x-api-key': 'hMo7shMplX6CN8jzevc3gaHCJhuGkuHb3rDBHtbQ'\n",
    "}\n",
    "\n",
    "response = requests.request(\"GET\", url, headers=headers, data=payload)\n",
    "\n",
    "print(response.text)\n"
   ]
  },
  {
   "cell_type": "code",
   "execution_count": null,
   "metadata": {},
   "outputs": [],
   "source": []
  },
  {
   "cell_type": "code",
   "execution_count": null,
   "metadata": {},
   "outputs": [],
   "source": []
  },
  {
   "cell_type": "code",
   "execution_count": null,
   "metadata": {},
   "outputs": [],
   "source": []
  },
  {
   "cell_type": "code",
   "execution_count": null,
   "metadata": {},
   "outputs": [],
   "source": []
  },
  {
   "cell_type": "code",
   "execution_count": null,
   "metadata": {},
   "outputs": [],
   "source": []
  },
  {
   "cell_type": "code",
   "execution_count": null,
   "metadata": {},
   "outputs": [],
   "source": []
  },
  {
   "cell_type": "code",
   "execution_count": null,
   "metadata": {},
   "outputs": [],
   "source": []
  },
  {
   "cell_type": "code",
   "execution_count": null,
   "metadata": {},
   "outputs": [],
   "source": []
  },
  {
   "cell_type": "code",
   "execution_count": null,
   "metadata": {},
   "outputs": [],
   "source": []
  },
  {
   "cell_type": "code",
   "execution_count": null,
   "metadata": {},
   "outputs": [],
   "source": []
  }
 ],
 "metadata": {
  "kernelspec": {
   "display_name": "Python 3 (ipykernel)",
   "language": "python",
   "name": "python3"
  },
  "language_info": {
   "codemirror_mode": {
    "name": "ipython",
    "version": 3
   },
   "file_extension": ".py",
   "mimetype": "text/x-python",
   "name": "python",
   "nbconvert_exporter": "python",
   "pygments_lexer": "ipython3",
   "version": "3.9.12"
  }
 },
 "nbformat": 4,
 "nbformat_minor": 2
}
