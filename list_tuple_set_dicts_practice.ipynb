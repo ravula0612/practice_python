{
 "cells": [
  {
   "cell_type": "markdown",
   "id": "4b284058",
   "metadata": {},
   "source": [
    "# list"
   ]
  },
  {
   "cell_type": "code",
   "execution_count": 22,
   "id": "639f6c5e",
   "metadata": {},
   "outputs": [
    {
     "data": {
      "text/plain": [
       "['a', 'b', 'c', 'd']"
      ]
     },
     "execution_count": 22,
     "metadata": {},
     "output_type": "execute_result"
    }
   ],
   "source": [
    "my = ['a', 'b', 'c']\n",
    "my.append('d')\n",
    "my"
   ]
  },
  {
   "cell_type": "code",
   "execution_count": 24,
   "id": "02d0b390",
   "metadata": {},
   "outputs": [
    {
     "data": {
      "text/plain": [
       "['a', 'e', 'e', 'b', 'c', 'd']"
      ]
     },
     "execution_count": 24,
     "metadata": {},
     "output_type": "execute_result"
    }
   ],
   "source": [
    "my.insert(1,'e')\n",
    "my"
   ]
  },
  {
   "cell_type": "code",
   "execution_count": 25,
   "id": "c8383330",
   "metadata": {},
   "outputs": [
    {
     "data": {
      "text/plain": [
       "['a', 'e', 'e', 'b', 'c']"
      ]
     },
     "execution_count": 25,
     "metadata": {},
     "output_type": "execute_result"
    }
   ],
   "source": [
    "my.pop()\n",
    "my"
   ]
  },
  {
   "cell_type": "code",
   "execution_count": 26,
   "id": "4cd05800",
   "metadata": {},
   "outputs": [
    {
     "data": {
      "text/plain": [
       "['a', 'e', 'e', 'b']"
      ]
     },
     "execution_count": 26,
     "metadata": {},
     "output_type": "execute_result"
    }
   ],
   "source": [
    "my.remove('c')\n",
    "my"
   ]
  },
  {
   "cell_type": "code",
   "execution_count": 27,
   "id": "c0f7c41a",
   "metadata": {},
   "outputs": [],
   "source": [
    "#my.remove('d')"
   ]
  },
  {
   "cell_type": "code",
   "execution_count": null,
   "id": "03047ecd",
   "metadata": {},
   "outputs": [],
   "source": [
    "my.clear() # to clear the all the list elements"
   ]
  },
  {
   "cell_type": "code",
   "execution_count": 30,
   "id": "4ab48427",
   "metadata": {},
   "outputs": [
    {
     "data": {
      "text/plain": [
       "['b', 'e', 'e', 'a']"
      ]
     },
     "execution_count": 30,
     "metadata": {},
     "output_type": "execute_result"
    }
   ],
   "source": [
    "my.reverse()\n",
    "my"
   ]
  },
  {
   "cell_type": "code",
   "execution_count": 31,
   "id": "cbde6f30",
   "metadata": {},
   "outputs": [],
   "source": [
    "my.sort()"
   ]
  },
  {
   "cell_type": "markdown",
   "id": "1a43d5d9",
   "metadata": {},
   "source": [
    "my\n"
   ]
  },
  {
   "cell_type": "code",
   "execution_count": 32,
   "id": "1d156931",
   "metadata": {},
   "outputs": [
    {
     "data": {
      "text/plain": [
       "['a', 'b', 'e', 'e']"
      ]
     },
     "execution_count": 32,
     "metadata": {},
     "output_type": "execute_result"
    }
   ],
   "source": [
    "my"
   ]
  },
  {
   "cell_type": "code",
   "execution_count": 34,
   "id": "4f404d47",
   "metadata": {},
   "outputs": [
    {
     "data": {
      "text/plain": [
       "['a', 'b', 'e', 'e']"
      ]
     },
     "execution_count": 34,
     "metadata": {},
     "output_type": "execute_result"
    }
   ],
   "source": [
    "new_list = sorted(my)\n",
    "new_list"
   ]
  },
  {
   "cell_type": "code",
   "execution_count": 38,
   "id": "7a12f2b8",
   "metadata": {},
   "outputs": [
    {
     "data": {
      "text/plain": [
       "['a', 'b', 'e', 'e', 0, 0, 0, 0, 0]"
      ]
     },
     "execution_count": 38,
     "metadata": {},
     "output_type": "execute_result"
    }
   ],
   "source": [
    "# new list with five zeros\n",
    "mylist = [0]*5\n",
    "mylist\n",
    "\n",
    "n = my + mylist\n",
    "n"
   ]
  },
  {
   "cell_type": "code",
   "execution_count": 39,
   "id": "54bf9aaf",
   "metadata": {},
   "outputs": [],
   "source": [
    "ml = [i for i in range(1,10)]"
   ]
  },
  {
   "cell_type": "code",
   "execution_count": 40,
   "id": "e8a42116",
   "metadata": {},
   "outputs": [
    {
     "data": {
      "text/plain": [
       "[1, 2, 3, 4, 5, 6, 7, 8, 9]"
      ]
     },
     "execution_count": 40,
     "metadata": {},
     "output_type": "execute_result"
    }
   ],
   "source": [
    "ml"
   ]
  },
  {
   "cell_type": "markdown",
   "id": "1317f4a3",
   "metadata": {},
   "source": [
    "# tuple"
   ]
  },
  {
   "cell_type": "code",
   "execution_count": 41,
   "id": "38e7572a",
   "metadata": {},
   "outputs": [],
   "source": [
    "mytuple  =('max', 1, 'india')"
   ]
  },
  {
   "cell_type": "code",
   "execution_count": 42,
   "id": "09fa9261",
   "metadata": {},
   "outputs": [
    {
     "data": {
      "text/plain": [
       "('max', 1, 'india')"
      ]
     },
     "execution_count": 42,
     "metadata": {},
     "output_type": "execute_result"
    }
   ],
   "source": [
    "mytuple"
   ]
  },
  {
   "cell_type": "code",
   "execution_count": 43,
   "id": "9f6edf97",
   "metadata": {},
   "outputs": [
    {
     "data": {
      "text/plain": [
       "tuple"
      ]
     },
     "execution_count": 43,
     "metadata": {},
     "output_type": "execute_result"
    }
   ],
   "source": [
    "m = ('amd',)\n",
    "type(m)"
   ]
  },
  {
   "cell_type": "code",
   "execution_count": 45,
   "id": "0915db40",
   "metadata": {},
   "outputs": [
    {
     "name": "stdout",
     "output_type": "stream",
     "text": [
      "('manoj', '22', 'india')\n"
     ]
    }
   ],
   "source": [
    "m = tuple(['manoj', '22', 'india'])\n",
    "print(m)"
   ]
  },
  {
   "cell_type": "code",
   "execution_count": 47,
   "id": "b0c4f56e",
   "metadata": {},
   "outputs": [
    {
     "name": "stdout",
     "output_type": "stream",
     "text": [
      "manoj\n"
     ]
    }
   ],
   "source": [
    "item = m[0] # u can use the index\n",
    "print(item)"
   ]
  },
  {
   "cell_type": "code",
   "execution_count": 48,
   "id": "fad2bcfb",
   "metadata": {},
   "outputs": [
    {
     "name": "stdout",
     "output_type": "stream",
     "text": [
      "manoj\n",
      "22\n",
      "india\n"
     ]
    }
   ],
   "source": [
    "for i in m:\n",
    "    print(i)"
   ]
  },
  {
   "cell_type": "code",
   "execution_count": 49,
   "id": "d269b1a2",
   "metadata": {},
   "outputs": [
    {
     "name": "stdout",
     "output_type": "stream",
     "text": [
      "yes\n"
     ]
    }
   ],
   "source": [
    "if 'manoj' in m:\n",
    "    print('yes')\n",
    "else:\n",
    "    print(\"no\")"
   ]
  },
  {
   "cell_type": "code",
   "execution_count": 50,
   "id": "8db34ea2",
   "metadata": {},
   "outputs": [
    {
     "name": "stdout",
     "output_type": "stream",
     "text": [
      "3\n"
     ]
    }
   ],
   "source": [
    "print(len(m))"
   ]
  },
  {
   "cell_type": "code",
   "execution_count": 51,
   "id": "50e65b95",
   "metadata": {},
   "outputs": [
    {
     "name": "stdout",
     "output_type": "stream",
     "text": [
      "1\n"
     ]
    }
   ],
   "source": [
    "print(m.count('manoj'))"
   ]
  },
  {
   "cell_type": "code",
   "execution_count": 53,
   "id": "4b957c66",
   "metadata": {},
   "outputs": [
    {
     "name": "stdout",
     "output_type": "stream",
     "text": [
      "0\n"
     ]
    }
   ],
   "source": [
    "print(m.index('manoj'))"
   ]
  },
  {
   "cell_type": "code",
   "execution_count": 55,
   "id": "2cef1585",
   "metadata": {},
   "outputs": [
    {
     "data": {
      "text/plain": [
       "['manoj', '22', 'india']"
      ]
     },
     "execution_count": 55,
     "metadata": {},
     "output_type": "execute_result"
    }
   ],
   "source": [
    "m_l = list(m) # we can convert\n",
    "m_l"
   ]
  },
  {
   "cell_type": "code",
   "execution_count": 56,
   "id": "cc28d03a",
   "metadata": {},
   "outputs": [
    {
     "data": {
      "text/plain": [
       "('manoj', '22')"
      ]
     },
     "execution_count": 56,
     "metadata": {},
     "output_type": "execute_result"
    }
   ],
   "source": [
    "b = m[:2]\n",
    "b"
   ]
  },
  {
   "cell_type": "code",
   "execution_count": 59,
   "id": "0a8d5b04",
   "metadata": {},
   "outputs": [
    {
     "data": {
      "text/plain": [
       "('india', '22', 'manoj')"
      ]
     },
     "execution_count": 59,
     "metadata": {},
     "output_type": "execute_result"
    }
   ],
   "source": [
    "b = m[::-1]\n",
    "b"
   ]
  },
  {
   "cell_type": "code",
   "execution_count": 63,
   "id": "63945655",
   "metadata": {},
   "outputs": [
    {
     "name": "stdout",
     "output_type": "stream",
     "text": [
      "manoj ['22'] india\n"
     ]
    }
   ],
   "source": [
    "# unpacking\n",
    "i,*i1, i3 = m\n",
    "print(i,i1,i3)\n"
   ]
  },
  {
   "cell_type": "markdown",
   "id": "378c1119",
   "metadata": {},
   "source": [
    "# dictionary"
   ]
  },
  {
   "cell_type": "code",
   "execution_count": 65,
   "id": "c67e927d",
   "metadata": {},
   "outputs": [
    {
     "name": "stdout",
     "output_type": "stream",
     "text": [
      "{'name': 'anil', 'age': 21, 'city': 'chennai'}\n"
     ]
    }
   ],
   "source": [
    "my_dict ={\"name\":\"anil\", \"age\":21, \"city\":\"chennai\"} \n",
    "print(my_dict)"
   ]
  },
  {
   "cell_type": "code",
   "execution_count": 66,
   "id": "0676f5be",
   "metadata": {},
   "outputs": [
    {
     "name": "stdout",
     "output_type": "stream",
     "text": [
      "anil\n"
     ]
    }
   ],
   "source": [
    "print(my_dict['name'])"
   ]
  },
  {
   "cell_type": "code",
   "execution_count": 67,
   "id": "d9875dcc",
   "metadata": {},
   "outputs": [
    {
     "data": {
      "text/plain": [
       "{'name': 'anil', 'age': 21, 'city': 'chennai', 'email': 'anil21@gmail.com'}"
      ]
     },
     "execution_count": 67,
     "metadata": {},
     "output_type": "execute_result"
    }
   ],
   "source": [
    "# insert \n",
    "\n",
    "my_dict['email']='anil21@gmail.com'\n",
    "my_dict"
   ]
  },
  {
   "cell_type": "code",
   "execution_count": 68,
   "id": "0edc7016",
   "metadata": {},
   "outputs": [
    {
     "data": {
      "text/plain": [
       "{'name': 'anil', 'age': 21, 'city': 'chennai'}"
      ]
     },
     "execution_count": 68,
     "metadata": {},
     "output_type": "execute_result"
    }
   ],
   "source": [
    "del my_dict['email']\n",
    "my_dict"
   ]
  },
  {
   "cell_type": "code",
   "execution_count": 69,
   "id": "b9a840f5",
   "metadata": {},
   "outputs": [
    {
     "data": {
      "text/plain": [
       "21"
      ]
     },
     "execution_count": 69,
     "metadata": {},
     "output_type": "execute_result"
    }
   ],
   "source": [
    "my_dict.pop('age')"
   ]
  },
  {
   "cell_type": "code",
   "execution_count": 70,
   "id": "537d3836",
   "metadata": {},
   "outputs": [
    {
     "data": {
      "text/plain": [
       "{'name': 'anil'}"
      ]
     },
     "execution_count": 70,
     "metadata": {},
     "output_type": "execute_result"
    }
   ],
   "source": [
    "my_dict.popitem()\n",
    "my_dict"
   ]
  },
  {
   "cell_type": "code",
   "execution_count": 71,
   "id": "0fd8164e",
   "metadata": {},
   "outputs": [
    {
     "name": "stdout",
     "output_type": "stream",
     "text": [
      "{'name': 'anil', 'age': 21, 'city': 'chennai'}\n"
     ]
    }
   ],
   "source": [
    "my_dict ={\"name\":\"anil\", \"age\":21, \"city\":\"chennai\"} \n",
    "print(my_dict)"
   ]
  },
  {
   "cell_type": "code",
   "execution_count": 72,
   "id": "8d216d83",
   "metadata": {},
   "outputs": [
    {
     "name": "stdout",
     "output_type": "stream",
     "text": [
      "anil\n"
     ]
    }
   ],
   "source": [
    "if 'name' in my_dict:\n",
    "    print(my_dict['name'])\n",
    "else:\n",
    "    print(\"not a key\")"
   ]
  },
  {
   "cell_type": "code",
   "execution_count": 74,
   "id": "18601af8",
   "metadata": {},
   "outputs": [
    {
     "name": "stdout",
     "output_type": "stream",
     "text": [
      "name\n",
      "age\n",
      "city\n"
     ]
    }
   ],
   "source": [
    "for key in my_dict:\n",
    "    print(key)"
   ]
  },
  {
   "cell_type": "code",
   "execution_count": 77,
   "id": "08b5be1a",
   "metadata": {},
   "outputs": [
    {
     "name": "stdout",
     "output_type": "stream",
     "text": [
      "anil\n",
      "21\n",
      "chennai\n"
     ]
    }
   ],
   "source": [
    "for values in my_dict.values():\n",
    "    print(values)"
   ]
  },
  {
   "cell_type": "code",
   "execution_count": 78,
   "id": "7c5261c2",
   "metadata": {},
   "outputs": [
    {
     "name": "stdout",
     "output_type": "stream",
     "text": [
      "name anil\n",
      "age 21\n",
      "city chennai\n"
     ]
    }
   ],
   "source": [
    "for k,v in my_dict.items():\n",
    "    print(k, v)"
   ]
  },
  {
   "cell_type": "code",
   "execution_count": 82,
   "id": "9afc5033",
   "metadata": {},
   "outputs": [
    {
     "name": "stdout",
     "output_type": "stream",
     "text": [
      "{'a': 'ani', 'age': 21} {'a': 'ani', 'age': 21, 'email': 'anil@gmail.com'}\n"
     ]
    }
   ],
   "source": [
    "# new \n",
    "my_dict = {'a':'ani','age':21}\n",
    "my_dict_cpy = my_dict.copy()\n",
    "my_dict_cpy['email'] = 'anil@gmail.com'\n",
    "print(my_dict, my_dict_cpy)"
   ]
  },
  {
   "cell_type": "code",
   "execution_count": 84,
   "id": "3847ec7a",
   "metadata": {},
   "outputs": [
    {
     "data": {
      "text/plain": [
       "{'a': 'anil', 'age': 24}"
      ]
     },
     "execution_count": 84,
     "metadata": {},
     "output_type": "execute_result"
    }
   ],
   "source": [
    "# update\n",
    "\n",
    "\n",
    "my_update = dict(a='anil',age=24 )\n",
    "my_dict.update(my_update)\n",
    "my_dict"
   ]
  },
  {
   "cell_type": "code",
   "execution_count": 86,
   "id": "dc815af3",
   "metadata": {},
   "outputs": [
    {
     "name": "stdout",
     "output_type": "stream",
     "text": [
      "{(7, 9): 15}\n"
     ]
    }
   ],
   "source": [
    "mytuple = (7,9)# for list it is not hashable\n",
    "mydict = {mytuple : 15}\n",
    "print(mydict)"
   ]
  },
  {
   "cell_type": "markdown",
   "id": "80c47d5b",
   "metadata": {},
   "source": [
    "# sets , unorderded, mutable, no duplicates"
   ]
  },
  {
   "cell_type": "code",
   "execution_count": 87,
   "id": "25fe7643",
   "metadata": {},
   "outputs": [],
   "source": [
    "myset = set()"
   ]
  },
  {
   "cell_type": "code",
   "execution_count": 89,
   "id": "02b0e396",
   "metadata": {},
   "outputs": [
    {
     "data": {
      "text/plain": [
       "set"
      ]
     },
     "execution_count": 89,
     "metadata": {},
     "output_type": "execute_result"
    }
   ],
   "source": [
    "myset\n",
    "type(myset)"
   ]
  },
  {
   "cell_type": "code",
   "execution_count": 90,
   "id": "a50f779e",
   "metadata": {},
   "outputs": [],
   "source": [
    "myset.add(1)\n",
    "myset.add(2)\n",
    "myset.add(3)"
   ]
  },
  {
   "cell_type": "code",
   "execution_count": 91,
   "id": "4fe70377",
   "metadata": {},
   "outputs": [
    {
     "name": "stdout",
     "output_type": "stream",
     "text": [
      "1\n",
      "2\n",
      "3\n"
     ]
    }
   ],
   "source": [
    "for i in myset:\n",
    "    print(i)"
   ]
  },
  {
   "cell_type": "code",
   "execution_count": 92,
   "id": "9c6cb022",
   "metadata": {},
   "outputs": [],
   "source": [
    "myset.clear()"
   ]
  },
  {
   "cell_type": "code",
   "execution_count": 93,
   "id": "0c0b066c",
   "metadata": {},
   "outputs": [
    {
     "data": {
      "text/plain": [
       "set()"
      ]
     },
     "execution_count": 93,
     "metadata": {},
     "output_type": "execute_result"
    }
   ],
   "source": [
    "myset"
   ]
  },
  {
   "cell_type": "markdown",
   "id": "fed6fffe",
   "metadata": {},
   "source": [
    "# set operations "
   ]
  },
  {
   "cell_type": "code",
   "execution_count": 97,
   "id": "4c5443d7",
   "metadata": {},
   "outputs": [
    {
     "data": {
      "text/plain": [
       "{1, 2, 3, 4, 5, 6, 7, 8}"
      ]
     },
     "execution_count": 97,
     "metadata": {},
     "output_type": "execute_result"
    }
   ],
   "source": [
    "s1 = {1,2,3,4}\n",
    "s2 = {5,6,7,8}\n",
    "s = s1.union(s2)\n",
    "s"
   ]
  },
  {
   "cell_type": "code",
   "execution_count": 98,
   "id": "f278f291",
   "metadata": {},
   "outputs": [
    {
     "data": {
      "text/plain": [
       "{1, 4}"
      ]
     },
     "execution_count": 98,
     "metadata": {},
     "output_type": "execute_result"
    }
   ],
   "source": [
    "s1 = {1,2,3,4}\n",
    "s2 = {5,6,7,8, 1,4}\n",
    "s = s1.intersection(s2)\n",
    "s"
   ]
  },
  {
   "cell_type": "code",
   "execution_count": 101,
   "id": "96a81b7c",
   "metadata": {},
   "outputs": [
    {
     "name": "stdout",
     "output_type": "stream",
     "text": [
      "set()\n",
      "{5, 6, 7, 8, 9}\n"
     ]
    }
   ],
   "source": [
    "s1 = {1,2,3,4}\n",
    "s2 = {i for i in range(1,10)}\n",
    "s = s1.difference(s2)\n",
    "print(s)\n",
    "s = s2.difference(s1)\n",
    "print(s)"
   ]
  },
  {
   "cell_type": "markdown",
   "id": "88fd24e4",
   "metadata": {},
   "source": [
    "# string"
   ]
  },
  {
   "cell_type": "code",
   "execution_count": 104,
   "id": "cb51da15",
   "metadata": {},
   "outputs": [],
   "source": [
    "var = 'anil'\n",
    "my_string  = \"the programmer is %s \" % var"
   ]
  },
  {
   "cell_type": "code",
   "execution_count": 105,
   "id": "0962829c",
   "metadata": {},
   "outputs": [
    {
     "data": {
      "text/plain": [
       "'the programmer is anil '"
      ]
     },
     "execution_count": 105,
     "metadata": {},
     "output_type": "execute_result"
    }
   ],
   "source": [
    "my_string"
   ]
  },
  {
   "cell_type": "code",
   "execution_count": 107,
   "id": "0deb26a1",
   "metadata": {},
   "outputs": [],
   "source": [
    "var = 3.1234"
   ]
  },
  {
   "cell_type": "code",
   "execution_count": 109,
   "id": "98a2ab41",
   "metadata": {},
   "outputs": [
    {
     "data": {
      "text/plain": [
       "'the var is 3.12'"
      ]
     },
     "execution_count": 109,
     "metadata": {},
     "output_type": "execute_result"
    }
   ],
   "source": [
    "my_str = \"the var is {:.2f}\".format(var)\n",
    "my_str"
   ]
  },
  {
   "cell_type": "code",
   "execution_count": null,
   "id": "1f8f6942",
   "metadata": {},
   "outputs": [],
   "source": []
  },
  {
   "cell_type": "code",
   "execution_count": null,
   "id": "d9b7669f",
   "metadata": {},
   "outputs": [],
   "source": []
  },
  {
   "cell_type": "code",
   "execution_count": null,
   "id": "6c294a2b",
   "metadata": {},
   "outputs": [],
   "source": []
  },
  {
   "cell_type": "code",
   "execution_count": null,
   "id": "634e52fb",
   "metadata": {},
   "outputs": [],
   "source": []
  }
 ],
 "metadata": {
  "kernelspec": {
   "display_name": "Python 3 (ipykernel)",
   "language": "python",
   "name": "python3"
  },
  "language_info": {
   "codemirror_mode": {
    "name": "ipython",
    "version": 3
   },
   "file_extension": ".py",
   "mimetype": "text/x-python",
   "name": "python",
   "nbconvert_exporter": "python",
   "pygments_lexer": "ipython3",
   "version": "3.9.12"
  }
 },
 "nbformat": 4,
 "nbformat_minor": 5
}
